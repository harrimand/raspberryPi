{
 "cells": [
  {
   "cell_type": "code",
   "execution_count": 1,
   "metadata": {},
   "outputs": [
    {
     "name": "stdout",
     "output_type": "stream",
     "text": [
      "[[-6000.  2400.     0.     0.     0.     0.     0.     0.]\n",
      " [ 2400. -6000.  2400.     0.     0.     0.     0.     0.]\n",
      " [    0.  2400. -6000.  2400.     0.     0.     0.     0.]\n",
      " [    0.     0.  2400. -6000.  2400.     0.     0.     0.]\n",
      " [    0.     0.     0.  2400. -6000.  2400.     0.     0.]\n",
      " [    0.     0.     0.     0.  2400. -6000.  2400.     0.]\n",
      " [    0.     0.     0.     0.     0.  2400. -6000.  2400.]\n",
      " [    0.     0.     0.     0.     0.     0.  2400. -4800.]]\n",
      "-4800.0\n"
     ]
    }
   ],
   "source": [
    "import numpy as np\n",
    "from scipy import linalg\n",
    "\n",
    "digitalInput = 154\n",
    "\n",
    "#Set base resistor value\n",
    "R = 1200\n",
    "\n",
    "# Set number of digital bits (Resolution)\n",
    "res = 8\n",
    "\n",
    "r2r = np.zeros((res,res))\n",
    "\n",
    "for i in range(0,res-1):\n",
    "    r2r.itemset((i, i), -5 * R)\n",
    "    r2r.itemset((i, i+1), 2 * R)\n",
    "    r2r.itemset((i+1, i), 2 * R)\n",
    "r2r.itemset((res - 1, res - 1), -4 * R)\n",
    "\n",
    "r2r = np.matrix(r2r)\n",
    "np.set_printoptions(linewidth=120) # Prevent line wrapping on a 16x16 matrix\n",
    "print(r2r)\n",
    "print(r2r.item((res-1, res-1))) #test read element from matrix\n"
   ]
  },
  {
   "cell_type": "code",
   "execution_count": null,
   "metadata": {},
   "outputs": [],
   "source": []
  }
 ],
 "metadata": {
  "kernelspec": {
   "display_name": "Python 3",
   "language": "python",
   "name": "python3"
  },
  "language_info": {
   "codemirror_mode": {
    "name": "ipython",
    "version": 3
   },
   "file_extension": ".py",
   "mimetype": "text/x-python",
   "name": "python",
   "nbconvert_exporter": "python",
   "pygments_lexer": "ipython3",
   "version": "3.5.3"
  }
 },
 "nbformat": 4,
 "nbformat_minor": 2
}
